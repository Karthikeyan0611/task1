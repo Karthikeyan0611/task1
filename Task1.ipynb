{
  "nbformat": 4,
  "nbformat_minor": 0,
  "metadata": {
    "colab": {
      "provenance": []
    },
    "kernelspec": {
      "name": "python3",
      "display_name": "Python 3"
    },
    "language_info": {
      "name": "python"
    }
  },
  "cells": [
    {
      "cell_type": "code",
      "execution_count": 7,
      "metadata": {
        "id": "VU91BeBNuWkn"
      },
      "outputs": [],
      "source": [
        "import pandas as pd\n",
        "from scipy.stats import zscore\n",
        "\n"
      ]
    },
    {
      "cell_type": "code",
      "metadata": {
        "id": "ZmL0l551Iibq"
      },
      "source": [
        "import numpy as np\n",
        "import pandas as pd"
      ],
      "execution_count": 8,
      "outputs": []
    },
    {
      "cell_type": "code",
      "source": [
        "df = pd.read_csv(\"/content/sales_data.csv\")\n"
      ],
      "metadata": {
        "id": "PWGldF1awiA8"
      },
      "execution_count": 9,
      "outputs": []
    },
    {
      "cell_type": "code",
      "source": [
        "print(\"Initial Shape:\", df.shape)\n",
        "print(df.info())\n",
        "print(df.head())\n"
      ],
      "metadata": {
        "colab": {
          "base_uri": "https://localhost:8080/"
        },
        "id": "hRxM0j0VwvcU",
        "outputId": "6ab4f244-bf2b-4cc3-cf90-26b2de2a2ce7"
      },
      "execution_count": 10,
      "outputs": [
        {
          "output_type": "stream",
          "name": "stdout",
          "text": [
            "Initial Shape: (113036, 18)\n",
            "<class 'pandas.core.frame.DataFrame'>\n",
            "RangeIndex: 113036 entries, 0 to 113035\n",
            "Data columns (total 18 columns):\n",
            " #   Column            Non-Null Count   Dtype \n",
            "---  ------            --------------   ----- \n",
            " 0   Date              113036 non-null  object\n",
            " 1   Day               113036 non-null  int64 \n",
            " 2   Month             113036 non-null  object\n",
            " 3   Year              113036 non-null  int64 \n",
            " 4   Customer_Age      113036 non-null  int64 \n",
            " 5   Age_Group         113036 non-null  object\n",
            " 6   Customer_Gender   113036 non-null  object\n",
            " 7   Country           113036 non-null  object\n",
            " 8   State             113036 non-null  object\n",
            " 9   Product_Category  113036 non-null  object\n",
            " 10  Sub_Category      113036 non-null  object\n",
            " 11  Product           113036 non-null  object\n",
            " 12  Order_Quantity    113036 non-null  int64 \n",
            " 13  Unit_Cost         113036 non-null  int64 \n",
            " 14  Unit_Price        113036 non-null  int64 \n",
            " 15  Profit            113036 non-null  int64 \n",
            " 16  Cost              113036 non-null  int64 \n",
            " 17  Revenue           113036 non-null  int64 \n",
            "dtypes: int64(9), object(9)\n",
            "memory usage: 15.5+ MB\n",
            "None\n",
            "         Date  Day     Month  Year  Customer_Age       Age_Group  \\\n",
            "0  2013-11-26   26  November  2013            19     Youth (<25)   \n",
            "1  2015-11-26   26  November  2015            19     Youth (<25)   \n",
            "2  2014-03-23   23     March  2014            49  Adults (35-64)   \n",
            "3  2016-03-23   23     March  2016            49  Adults (35-64)   \n",
            "4  2014-05-15   15       May  2014            47  Adults (35-64)   \n",
            "\n",
            "  Customer_Gender    Country             State Product_Category Sub_Category  \\\n",
            "0               M     Canada  British Columbia      Accessories   Bike Racks   \n",
            "1               M     Canada  British Columbia      Accessories   Bike Racks   \n",
            "2               M  Australia   New South Wales      Accessories   Bike Racks   \n",
            "3               M  Australia   New South Wales      Accessories   Bike Racks   \n",
            "4               F  Australia   New South Wales      Accessories   Bike Racks   \n",
            "\n",
            "               Product  Order_Quantity  Unit_Cost  Unit_Price  Profit  Cost  \\\n",
            "0  Hitch Rack - 4-Bike               8         45         120     590   360   \n",
            "1  Hitch Rack - 4-Bike               8         45         120     590   360   \n",
            "2  Hitch Rack - 4-Bike              23         45         120    1366  1035   \n",
            "3  Hitch Rack - 4-Bike              20         45         120    1188   900   \n",
            "4  Hitch Rack - 4-Bike               4         45         120     238   180   \n",
            "\n",
            "   Revenue  \n",
            "0      950  \n",
            "1      950  \n",
            "2     2401  \n",
            "3     2088  \n",
            "4      418  \n"
          ]
        }
      ]
    },
    {
      "cell_type": "code",
      "source": [
        "num_cols = df.select_dtypes(include=['float64', 'int64']).columns\n",
        "for col in num_cols:\n",
        "    df[col] = df[col].fillna(df[col].mean())\n",
        "\n",
        "cat_cols = df.select_dtypes(include=['object']).columns\n",
        "for col in cat_cols:\n",
        "    df[col] = df[col].fillna('Unknown')\n"
      ],
      "metadata": {
        "id": "felvclv9wv4s"
      },
      "execution_count": 11,
      "outputs": []
    },
    {
      "cell_type": "code",
      "source": [
        "df = df.drop_duplicates()\n"
      ],
      "metadata": {
        "id": "fm9JmmnewwTU"
      },
      "execution_count": 12,
      "outputs": []
    },
    {
      "cell_type": "code",
      "source": [
        "if 'gender' in df.columns:\n",
        "    df['gender'] = df['gender'].str.strip().str.lower().replace({\n",
        "        'm': 'male', 'f': 'female'\n",
        "    })\n"
      ],
      "metadata": {
        "id": "lnFTQGwHwwi8"
      },
      "execution_count": 13,
      "outputs": []
    },
    {
      "cell_type": "code",
      "source": [
        "if 'signup_date' in df.columns:\n",
        "    df['signup_date'] = pd.to_datetime(df['signup_date'], errors='coerce')\n"
      ],
      "metadata": {
        "id": "nfbBvUP0wwys"
      },
      "execution_count": 14,
      "outputs": []
    },
    {
      "cell_type": "code",
      "source": [
        "df.columns = df.columns.str.strip().str.lower().str.replace(\" \", \"_\")\n"
      ],
      "metadata": {
        "id": "SZHAI5TpwxBk"
      },
      "execution_count": 15,
      "outputs": []
    },
    {
      "cell_type": "code",
      "source": [
        "if 'age' in df.columns:\n",
        "    df['age'] = df['age'].fillna(0).astype(int)\n"
      ],
      "metadata": {
        "id": "f_zxe2QZw88E"
      },
      "execution_count": 16,
      "outputs": []
    },
    {
      "cell_type": "code",
      "source": [
        "if 'income' in df.columns:\n",
        "    df = df[(zscore(df['income']) < 3)]\n"
      ],
      "metadata": {
        "id": "cm3h5y-tw9UL"
      },
      "execution_count": 17,
      "outputs": []
    },
    {
      "cell_type": "code",
      "source": [
        "print(\"Final Shape:\", df.shape)\n",
        "print(df.info())\n",
        "df.to_csv(\"cleaned_dataset.csv\", index=False)\n",
        "print(\"Cleaned dataset saved as cleaned_dataset.csv\")\n"
      ],
      "metadata": {
        "colab": {
          "base_uri": "https://localhost:8080/"
        },
        "id": "ZLXc4UOUxEhL",
        "outputId": "9a8a4467-1737-4194-ec2d-8f0753d064fa"
      },
      "execution_count": 18,
      "outputs": [
        {
          "output_type": "stream",
          "name": "stdout",
          "text": [
            "Final Shape: (112036, 18)\n",
            "<class 'pandas.core.frame.DataFrame'>\n",
            "Index: 112036 entries, 0 to 113035\n",
            "Data columns (total 18 columns):\n",
            " #   Column            Non-Null Count   Dtype \n",
            "---  ------            --------------   ----- \n",
            " 0   date              112036 non-null  object\n",
            " 1   day               112036 non-null  int64 \n",
            " 2   month             112036 non-null  object\n",
            " 3   year              112036 non-null  int64 \n",
            " 4   customer_age      112036 non-null  int64 \n",
            " 5   age_group         112036 non-null  object\n",
            " 6   customer_gender   112036 non-null  object\n",
            " 7   country           112036 non-null  object\n",
            " 8   state             112036 non-null  object\n",
            " 9   product_category  112036 non-null  object\n",
            " 10  sub_category      112036 non-null  object\n",
            " 11  product           112036 non-null  object\n",
            " 12  order_quantity    112036 non-null  int64 \n",
            " 13  unit_cost         112036 non-null  int64 \n",
            " 14  unit_price        112036 non-null  int64 \n",
            " 15  profit            112036 non-null  int64 \n",
            " 16  cost              112036 non-null  int64 \n",
            " 17  revenue           112036 non-null  int64 \n",
            "dtypes: int64(9), object(9)\n",
            "memory usage: 16.2+ MB\n",
            "None\n",
            "Cleaned dataset saved as cleaned_dataset.csv\n"
          ]
        }
      ]
    }
  ]
}